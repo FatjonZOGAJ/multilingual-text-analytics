{
 "cells": [
  {
   "cell_type": "code",
   "execution_count": 2,
   "id": "33519b50",
   "metadata": {},
   "outputs": [],
   "source": [
    "from transformers import AutoTokenizer, AutoModelForSeq2SeqLM"
   ]
  },
  {
   "cell_type": "code",
   "execution_count": 17,
   "id": "29bf70fa",
   "metadata": {},
   "outputs": [],
   "source": [
    "summarizer_tokenizer = AutoTokenizer.from_pretrained(\"T-Systems-onsite/mt5-small-sum-de-en-v2\")\n",
    "summarizer_model = AutoModelForSeq2SeqLM.from_pretrained(\"T-Systems-onsite/mt5-small-sum-de-en-v2\")"
   ]
  },
  {
   "cell_type": "code",
   "execution_count": 56,
   "id": "93b3d44d",
   "metadata": {},
   "outputs": [
    {
     "data": {
      "application/vnd.jupyter.widget-view+json": {
       "model_id": "aec74920c36640cab5c3657fefcb7926",
       "version_major": 2,
       "version_minor": 0
      },
      "text/plain": [
       "Downloading:   0%|          | 0.00/356 [00:00<?, ?B/s]"
      ]
     },
     "metadata": {},
     "output_type": "display_data"
    },
    {
     "data": {
      "application/vnd.jupyter.widget-view+json": {
       "model_id": "39cee3a22b2b42ccbc7b4f4d17c5b8ae",
       "version_major": 2,
       "version_minor": 0
      },
      "text/plain": [
       "Downloading:   0%|          | 0.00/646 [00:00<?, ?B/s]"
      ]
     },
     "metadata": {},
     "output_type": "display_data"
    },
    {
     "data": {
      "application/vnd.jupyter.widget-view+json": {
       "model_id": "75a3b5b77f914d5295ea1bfa5265864e",
       "version_major": 2,
       "version_minor": 0
      },
      "text/plain": [
       "Downloading:   0%|          | 0.00/4.31M [00:00<?, ?B/s]"
      ]
     },
     "metadata": {},
     "output_type": "display_data"
    },
    {
     "data": {
      "application/vnd.jupyter.widget-view+json": {
       "model_id": "3ff950fe428841678c6251dd877230a9",
       "version_major": 2,
       "version_minor": 0
      },
      "text/plain": [
       "Downloading:   0%|          | 0.00/65.0 [00:00<?, ?B/s]"
      ]
     },
     "metadata": {},
     "output_type": "display_data"
    },
    {
     "data": {
      "application/vnd.jupyter.widget-view+json": {
       "model_id": "14d24bc8cc084fecb25f948aa52dd24a",
       "version_major": 2,
       "version_minor": 0
      },
      "text/plain": [
       "Downloading:   0%|          | 0.00/1.20G [00:00<?, ?B/s]"
      ]
     },
     "metadata": {},
     "output_type": "display_data"
    }
   ],
   "source": [
    "summarizer_ml6team_tokenizer = AutoTokenizer.from_pretrained(\"ml6team/mt5-small-german-finetune-mlsum\")\n",
    "summarizer_ml6team_model = AutoModelForSeq2SeqLM.from_pretrained(\"ml6team/mt5-small-german-finetune-mlsum\")"
   ]
  },
  {
   "cell_type": "code",
   "execution_count": 49,
   "id": "08792f4a",
   "metadata": {},
   "outputs": [],
   "source": [
    "tokenizer = AutoTokenizer.from_pretrained(\"Helsinki-NLP/opus-mt-en-de\")\n",
    "model = AutoModelForSeq2SeqLM.from_pretrained(\"Helsinki-NLP/opus-mt-en-de\")"
   ]
  },
  {
   "cell_type": "code",
   "execution_count": 51,
   "id": "6ab4ca05",
   "metadata": {},
   "outputs": [
    {
     "data": {
      "application/vnd.jupyter.widget-view+json": {
       "model_id": "f99f4d01a125479aa8bca8781a0d620a",
       "version_major": 2,
       "version_minor": 0
      },
      "text/plain": [
       "Downloading:   0%|          | 0.00/42.0 [00:00<?, ?B/s]"
      ]
     },
     "metadata": {},
     "output_type": "display_data"
    },
    {
     "data": {
      "application/vnd.jupyter.widget-view+json": {
       "model_id": "22b6c58e88df4cb5be11ca134f10abb7",
       "version_major": 2,
       "version_minor": 0
      },
      "text/plain": [
       "Downloading:   0%|          | 0.00/1.13k [00:00<?, ?B/s]"
      ]
     },
     "metadata": {},
     "output_type": "display_data"
    },
    {
     "data": {
      "application/vnd.jupyter.widget-view+json": {
       "model_id": "de99241ce2684d53a9ac1e9efddf75dd",
       "version_major": 2,
       "version_minor": 0
      },
      "text/plain": [
       "Downloading:   0%|          | 0.00/797k [00:00<?, ?B/s]"
      ]
     },
     "metadata": {},
     "output_type": "display_data"
    },
    {
     "data": {
      "application/vnd.jupyter.widget-view+json": {
       "model_id": "971ef67a7bc042f5b2d57e907845a5ae",
       "version_major": 2,
       "version_minor": 0
      },
      "text/plain": [
       "Downloading:   0%|          | 0.00/768k [00:00<?, ?B/s]"
      ]
     },
     "metadata": {},
     "output_type": "display_data"
    },
    {
     "data": {
      "application/vnd.jupyter.widget-view+json": {
       "model_id": "d3bd3ab322a04d4ebbd6458e772fd8c2",
       "version_major": 2,
       "version_minor": 0
      },
      "text/plain": [
       "Downloading:   0%|          | 0.00/1.27M [00:00<?, ?B/s]"
      ]
     },
     "metadata": {},
     "output_type": "display_data"
    },
    {
     "data": {
      "application/vnd.jupyter.widget-view+json": {
       "model_id": "42e8c8b926dc4686a03998f03618bc47",
       "version_major": 2,
       "version_minor": 0
      },
      "text/plain": [
       "Downloading:   0%|          | 0.00/298M [00:00<?, ?B/s]"
      ]
     },
     "metadata": {},
     "output_type": "display_data"
    }
   ],
   "source": [
    "tokenizer_de_en = AutoTokenizer.from_pretrained(\"Helsinki-NLP/opus-mt-de-en\")\n",
    "model_de_en = AutoModelForSeq2SeqLM.from_pretrained(\"Helsinki-NLP/opus-mt-de-en\")"
   ]
  },
  {
   "cell_type": "code",
   "execution_count": 52,
   "id": "c1decf7d",
   "metadata": {},
   "outputs": [],
   "source": [
    "def translate(text: str, de: bool = False):\n",
    "    if de:\n",
    "        tokenized_text = tokenizer_de_en.prepare_seq2seq_batch([text], return_tensors='pt')\n",
    "\n",
    "        # Perform translation and decode the output\n",
    "        translation = model_de_en.generate(**tokenized_text, max_length=1024)\n",
    "        translated_text = tokenizer_de_en.batch_decode(translation, skip_special_tokens=True)[0]\n",
    "    else:\n",
    "        tokenized_text = tokenizer.prepare_seq2seq_batch([text], return_tensors='pt')\n",
    "\n",
    "        # Perform translation and decode the output\n",
    "        translation = model.generate(**tokenized_text, max_length=1024)\n",
    "        translated_text = tokenizer.batch_decode(translation, skip_special_tokens=True)[0]\n",
    "    \n",
    "    return translated_text"
   ]
  },
  {
   "cell_type": "code",
   "execution_count": 58,
   "id": "73c86629",
   "metadata": {},
   "outputs": [],
   "source": [
    "def summarize(text: str, method='ml6team'):\n",
    "    if method == 'ml6team':\n",
    "        tokenizer = summarizer_ml6team_tokenizer\n",
    "        model = summarizer_ml6team_model\n",
    "    else:\n",
    "        tokenizer = summarizer_tokenizer\n",
    "        model = summarizer_model\n",
    "        \n",
    "    tokenized_text = tokenizer.prepare_seq2seq_batch([text],max_length=1024, return_tensors='pt')\n",
    "    \n",
    "    # Perform translation and decode the output\n",
    "    output = model.generate(**tokenized_text, max_length=1024)\n",
    "    output_text = tokenizer.batch_decode(output, skip_special_tokens=True)[0]\n",
    "    \n",
    "    return output_text"
   ]
  },
  {
   "cell_type": "code",
   "execution_count": 60,
   "id": "8dba1d68",
   "metadata": {},
   "outputs": [],
   "source": [
    "test_sentence=\"\"\"Asthma bronchiale\n",
    "\n",
    "Auslöser sind Blütenpollen oder Tierhaare genauso wie Kälte oder Belastung: Asthma bronchiale gehört zu den häufigsten chronischen Krankheiten in der Schweiz.\n",
    "\n",
    "Asthma bronchiale ist eine chronische und entzündliche Erkrankung der Atemwege. Charakteristisch sind Atemnot, Hustenanfälle und pfeifende Atemgeräusche. Die Bronchien reagieren dabei auf verschiedene Reize wie Pollen oder Tierhaare, aber auch Kälte oder körperliche Belastung können asthmatische Beschwerden auslösen.\n",
    "\n",
    "In der Schweiz ist ungefähr jedes 10. Kind von Asthma betroffen. Damit ist Asthma bei Kindern die häufigste chronische Krankheit überhaupt. Die Erkrankung bessert sich mit steigendem Alter jedoch spürbar, deshalb leidet nur noch jeder 14. Erwachsene an Asthma.\n",
    "\"\"\""
   ]
  },
  {
   "cell_type": "code",
   "execution_count": null,
   "id": "0f65ea75",
   "metadata": {},
   "outputs": [],
   "source": []
  },
  {
   "cell_type": "code",
   "execution_count": 63,
   "id": "7f7514d2",
   "metadata": {},
   "outputs": [
    {
     "name": "stdout",
     "output_type": "stream",
     "text": [
      "Asthma bronchiale ist eine chronische und entzündliche Erkrankung der Atemwege. Sie ist eine chronische und entzündliche Erkrankung der Atemwege.\n"
     ]
    }
   ],
   "source": [
    "print(summarize(test_sentence, method=\"old\"))"
   ]
  },
  {
   "cell_type": "code",
   "execution_count": 64,
   "id": "d0d6e763",
   "metadata": {},
   "outputs": [
    {
     "name": "stdout",
     "output_type": "stream",
     "text": [
      "Auslöser sind Blütenpollen oder Tierhaare genauso wie Kälte oder Belastung: Asthma bronchiale gehört zu den häufigsten chronischen Krankheiten in der Schweiz.\n"
     ]
    }
   ],
   "source": [
    "print(summarize(test_sentence))"
   ]
  },
  {
   "cell_type": "code",
   "execution_count": 54,
   "id": "44603eef",
   "metadata": {},
   "outputs": [
    {
     "name": "stdout",
     "output_type": "stream",
     "text": [
      "Asthma bronchial Synonym: Asthma, bronchial asthma triggers are flower pollen or animal hair as well as cold or stress: Asthma bronchial is one of the most common chronic diseases in Switzerland. Asthma bronchial is a chronic and inflammatory disease of the respiratory system. Characteristic are shortness of breath, cough attacks and wheezing breathing sounds. The bronchial disease reacts to various stimuli such as pollen or animal hair, but also cold or physical stress can cause asthmatic complaints. In Switzerland, about every 10th child is affected by asthma. Thus, asthma is the most common chronic disease in children. However, the disease improves with increasing age, so only every 14th adult suffers from asthma.\n"
     ]
    }
   ],
   "source": [
    "test_sentence_en = translate(test_sentence, de=True)\n",
    "print(test_sentence_en)"
   ]
  },
  {
   "cell_type": "code",
   "execution_count": 55,
   "id": "90409131",
   "metadata": {},
   "outputs": [
    {
     "name": "stdout",
     "output_type": "stream",
     "text": [
      "Asthma bronchial is a chronic and inflammatory disease of the respiratory system in Switzerland.\n"
     ]
    }
   ],
   "source": [
    "print(summarize(test_sentence_en))"
   ]
  },
  {
   "cell_type": "code",
   "execution_count": null,
   "id": "684e8f1b",
   "metadata": {},
   "outputs": [],
   "source": []
  },
  {
   "cell_type": "code",
   "execution_count": 45,
   "id": "2248f449",
   "metadata": {},
   "outputs": [
    {
     "data": {
      "text/plain": [
       "'Der junge Mann kündigt seinen Mobilfunkvertrag nicht. Er hatte das getan. Nun kündigt er seine Telefonfreundschaft mit der O2-Mutterfirma Telefónica.'"
      ]
     },
     "execution_count": 45,
     "metadata": {},
     "output_type": "execute_result"
    }
   ],
   "source": [
    "summarize(\"\"\"Wer das Abenteuer sucht, braucht nicht viel zu tun. Es reicht, seinen Mobilfunkvertrag zu kündigen. Ich habe das getan. Meinen alten Vertrag mit O₂ konnte man in den ersten 24 Monaten nicht kündigen. Die sind jetzt bald vorbei. Behalten will ich den Vertrag nicht. Im Monat rund 30 Euro für Zehn-Gigabyte-Internetdatenvolumen und eine Telefonflatrate waren mir zu teuer. Ich sehe unterwegs keine Filme, streame keine Musik und spiele keine Handyspiele. Zehn Gigabyte brauche ich deshalb nicht. Drei sind genug.\n",
    "\n",
    "Kurz nach der Kündigung beginnt meine Telefonfreundschaft mit der O₂-Mutterfirma Telefónica. „Sie wollen uns doch nicht wirklich verlassen“, sagt der junge Mann von der Verkaufshotline zu mir. Ich denke, gleich bittet er mich um ein Date. Aber nein, er hat ein Angebot für eine Vertragsverlängerung für mich. „Sie zahlen jetzt doch viel zu viel“, sagt er. Was er mir anbietet: 12,99 Euro im Monat statt 24,99 Euro für sechs Gigabyte und eine Telefonflatrate. Nicht schlecht, denke ich. Aber vielleicht geht es noch billiger.\n",
    "\n",
    "Ich bitte Mediamarkt um ein Angebot. 14,99 Euro im Monat muss ich dort für diesen Tarif zahlen. Es gibt aber einen Einkaufsgutschein von 90 Euro dazu. Rechnet man alles zusammen, spare ich im Vergleich zu dem Angebot der Hotline 3,75 Euro im Monat. Ich warte also noch.\n",
    "\n",
    "Aber die Wartezeit ist kurz: Schon bald ruft mich die Hotline wieder an. Ein anderer Mitarbeiter. Schade eigentlich. Ich möchte gern mit dem Mann vom letzten Mal sprechen. Kann ich ihn selbst anrufen, wenn es mir zeitlich passt? Das geht leider nicht, sagt man mir am Telefon. „Wir rufen Sie wieder an.“ Ich akzeptiere das. Später lerne ich aber bei der Pressestelle von Telefónica, dass man die Menschen der Hotline sehr wohl anrufen kann. In meinem Fall vermutet man „ein technisches Problem“.\"\"\")"
   ]
  },
  {
   "cell_type": "code",
   "execution_count": null,
   "id": "e3b662a3",
   "metadata": {},
   "outputs": [],
   "source": []
  }
 ],
 "metadata": {
  "kernelspec": {
   "display_name": "Python 3 (ipykernel)",
   "language": "python",
   "name": "python3"
  },
  "language_info": {
   "codemirror_mode": {
    "name": "ipython",
    "version": 3
   },
   "file_extension": ".py",
   "mimetype": "text/x-python",
   "name": "python",
   "nbconvert_exporter": "python",
   "pygments_lexer": "ipython3",
   "version": "3.8.5"
  }
 },
 "nbformat": 4,
 "nbformat_minor": 5
}
