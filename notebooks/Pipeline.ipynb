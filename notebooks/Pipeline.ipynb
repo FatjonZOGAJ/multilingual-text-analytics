{
 "cells": [
  {
   "cell_type": "code",
   "execution_count": 1,
   "id": "478d661f",
   "metadata": {},
   "outputs": [],
   "source": [
    "import os\n",
    "os.chdir(\"..\")"
   ]
  },
  {
   "cell_type": "code",
   "execution_count": 2,
   "id": "41c5a226",
   "metadata": {},
   "outputs": [],
   "source": [
    "os.environ[\"AZURE_LANGUAGE_ENDPOINT\"] = \"https://datathon.cognitiveservices.azure.com/\"\n",
    "os.environ[\"AZURE_LANGUAGE_KEY\"] = \"abdeac0882324fb59b2cf327e84f783a\"\n",
    "os.environ[\"AZURE_TRANSLATION_ENDPOINT\"] = \"https://api.cognitive.microsofttranslator.com/\"\n",
    "os.environ[\"AZURE_TRANSLATION_KEY\"] = \"ed4486cc91334c13863a64530126be25\""
   ]
  },
  {
   "cell_type": "code",
   "execution_count": 3,
   "id": "dcad027c",
   "metadata": {},
   "outputs": [],
   "source": [
    "DEBUG = True"
   ]
  },
  {
   "cell_type": "code",
   "execution_count": 4,
   "id": "285fd331",
   "metadata": {},
   "outputs": [],
   "source": [
    "from transformers import AutoTokenizer, AutoModelForSeq2SeqLM\n",
    "from typing import Any, Dict, List"
   ]
  },
  {
   "cell_type": "code",
   "execution_count": 24,
   "id": "46363dac",
   "metadata": {},
   "outputs": [
    {
     "ename": "ImportError",
     "evalue": "cannot import name 'summarize' from 'summarizer' (/home/papilou/projects/multilingual-text-analytics/summarizer.py)",
     "output_type": "error",
     "traceback": [
      "\u001b[0;31m---------------------------------------------------------------------------\u001b[0m",
      "\u001b[0;31mImportError\u001b[0m                               Traceback (most recent call last)",
      "\u001b[0;32m/tmp/ipykernel_4068598/1075089024.py\u001b[0m in \u001b[0;36m<module>\u001b[0;34m\u001b[0m\n\u001b[1;32m      1\u001b[0m \u001b[0;32mfrom\u001b[0m \u001b[0mner\u001b[0m \u001b[0;32mimport\u001b[0m \u001b[0msample_analyze_healthcare_entities\u001b[0m\u001b[0;34m\u001b[0m\u001b[0;34m\u001b[0m\u001b[0m\n\u001b[1;32m      2\u001b[0m \u001b[0;32mfrom\u001b[0m \u001b[0mtranslator\u001b[0m \u001b[0;32mimport\u001b[0m \u001b[0mtranslate_en_to_de\u001b[0m\u001b[0;34m\u001b[0m\u001b[0;34m\u001b[0m\u001b[0m\n\u001b[0;32m----> 3\u001b[0;31m \u001b[0;32mfrom\u001b[0m \u001b[0msummarizer\u001b[0m \u001b[0;32mimport\u001b[0m \u001b[0msummarize\u001b[0m\u001b[0;34m\u001b[0m\u001b[0;34m\u001b[0m\u001b[0m\n\u001b[0m",
      "\u001b[0;31mImportError\u001b[0m: cannot import name 'summarize' from 'summarizer' (/home/papilou/projects/multilingual-text-analytics/summarizer.py)"
     ]
    }
   ],
   "source": [
    "from ner import sample_analyze_healthcare_entities\n",
    "from translator import translate_en_to_de\n",
    "from summarizer import summarize"
   ]
  },
  {
   "cell_type": "code",
   "execution_count": 6,
   "id": "8d269257",
   "metadata": {},
   "outputs": [],
   "source": [
    "input_text_de = \"\"\"Asthma bronchiale\n",
    "Auslöser sind Blütenpollen oder Tierhaare genauso wie Kälte oder Belastung: Asthma bronchiale gehört zu den häufigsten chronischen Krankheiten in der Schweiz.\n",
    "Asthma bronchiale ist eine chronische und entzündliche Erkrankung der Atemwege. Charakteristisch sind Atemnot, Hustenanfälle und pfeifende Atemgeräusche. Die Bronchien reagieren dabei auf verschiedene Reize wie Pollen oder Tierhaare, aber auch Kälte oder körperliche Belastung können asthmatische Beschwerden auslösen.\n",
    "In der Schweiz ist ungefähr jedes 10. Kind von Asthma betroffen. Damit ist Asthma bei Kindern die häufigste chronische Krankheit überhaupt. Die Erkrankung bessert sich mit steigendem Alter jedoch spürbar, deshalb leidet nur noch jeder 14. Erwachsene an Asthma.\n",
    "\"\"\""
   ]
  },
  {
   "cell_type": "code",
   "execution_count": 7,
   "id": "0b9e8b1b",
   "metadata": {},
   "outputs": [],
   "source": [
    "tokenizer_de_en = AutoTokenizer.from_pretrained(\"Helsinki-NLP/opus-mt-de-en\")\n",
    "model_de_en = AutoModelForSeq2SeqLM.from_pretrained(\"Helsinki-NLP/opus-mt-de-en\")\n",
    "\n",
    "tokenizer_en_de = AutoTokenizer.from_pretrained(\"Helsinki-NLP/opus-mt-en-de\")\n",
    "model_en_de = AutoModelForSeq2SeqLM.from_pretrained(\"Helsinki-NLP/opus-mt-en-de\")\n",
    "\n",
    "summarizer_tokenizer = AutoTokenizer.from_pretrained(\"T-Systems-onsite/mt5-small-sum-de-en-v2\")\n",
    "summarizer_model = AutoModelForSeq2SeqLM.from_pretrained(\"T-Systems-onsite/mt5-small-sum-de-en-v2\")"
   ]
  },
  {
   "cell_type": "code",
   "execution_count": 8,
   "id": "86bf73f1",
   "metadata": {},
   "outputs": [],
   "source": [
    "def translate(text: str, to_english: bool = True) -> str:\n",
    "    if to_english:\n",
    "        tokenized_text = tokenizer_de_en.prepare_seq2seq_batch([text], return_tensors='pt')\n",
    "        translation = model_de_en.generate(**tokenized_text, max_length=1024)\n",
    "        translated_text = tokenizer_de_en.batch_decode(translation, skip_special_tokens=True)[0]\n",
    "    else:\n",
    "        tokenized_text = tokenizer_en_de.prepare_seq2seq_batch([text], return_tensors='pt')\n",
    "        translation = model_en_de.generate(**tokenized_text, max_length=1024)\n",
    "        translated_text = tokenizer_en_de.batch_decode(translation, skip_special_tokens=True)[0]\n",
    "    return translated_text"
   ]
  },
  {
   "cell_type": "code",
   "execution_count": null,
   "id": "2f848392",
   "metadata": {},
   "outputs": [],
   "source": [
    "def translate_azure(text: str):\n",
    "    return translate(text, os.environ[\"AZURE_TRANSLATION_ENDPOINT\"], os.environ[\"AZURE_TRANSLATION_KEY\"])"
   ]
  },
  {
   "cell_type": "code",
   "execution_count": 9,
   "id": "fcf97e5d",
   "metadata": {},
   "outputs": [],
   "source": [
    "def abstract_summary(text: str, is_english: bool = True) -> str:\n",
    "    if is_english:\n",
    "        pass\n",
    "        summary = text\n",
    "    else:\n",
    "        tokenized_text = summarizer_tokenizer.prepare_seq2seq_batch([text],max_length=1024, return_tensors='pt')\n",
    "        output = summarizer_model.generate(**tokenized_text, max_length=1024)\n",
    "        summary = summarizer_tokenizer.batch_decode(output, skip_special_tokens=True)[0]\n",
    "    return summary"
   ]
  },
  {
   "cell_type": "code",
   "execution_count": null,
   "id": "06109f62",
   "metadata": {},
   "outputs": [],
   "source": [
    "def extractive_summary_azure(text: str, max_senteces_count=4):\n",
    "    return summarize(text, max_sentence_count)"
   ]
  },
  {
   "cell_type": "code",
   "execution_count": 10,
   "id": "1848df67",
   "metadata": {},
   "outputs": [],
   "source": [
    "def extractive_summary(text: str, is_english: bool = True) -> List[str]:\n",
    "    if is_english:\n",
    "        pass\n",
    "        summary = [text]\n",
    "    else:\n",
    "        pass\n",
    "        summary = [text]\n",
    "    return summary"
   ]
  },
  {
   "cell_type": "code",
   "execution_count": 11,
   "id": "cfb5987a",
   "metadata": {},
   "outputs": [],
   "source": [
    "def ner(text: str, translated_lang: str = 'en') -> Dict[str, Any]:\n",
    "    return sample_analyze_healthcare_entities([text], return_docs=True, translated_lang=translated_lang)"
   ]
  },
  {
   "cell_type": "markdown",
   "id": "532f4203",
   "metadata": {},
   "source": [
    "## English pipeline"
   ]
  },
  {
   "cell_type": "code",
   "execution_count": 12,
   "id": "cd46363f",
   "metadata": {},
   "outputs": [
    {
     "name": "stderr",
     "output_type": "stream",
     "text": [
      "/home/papilou/projects/adaptive-teaching/backend/env/lib/python3.8/site-packages/transformers/tokenization_utils_base.py:3277: FutureWarning: `prepare_seq2seq_batch` is deprecated and will be removed in version 5 of 🤗 Transformers. Use the regular `__call__` method to prepare your inputs and the tokenizer under the `with_target_tokenizer` context manager to prepare your targets. See the documentation of your specific tokenizer for more details\n",
      "  warnings.warn(\n",
      "/home/papilou/projects/adaptive-teaching/backend/env/lib/python3.8/site-packages/torch/_tensor.py:565: UserWarning: floor_divide is deprecated, and will be removed in a future version of pytorch. It currently rounds toward 0 (like the 'trunc' function NOT 'floor'). This results in incorrect rounding for negative values.\n",
      "To keep the current behavior, use torch.div(a, b, rounding_mode='trunc'), or for actual floor division, use torch.div(a, b, rounding_mode='floor'). (Triggered internally at  ../aten/src/ATen/native/BinaryOps.cpp:512.)\n",
      "  return torch.floor_divide(self, other)\n"
     ]
    }
   ],
   "source": [
    "input_text_en = translate(input_text_de)\n",
    "input_text_azure_en = translate_azure(input_text_de)\n",
    "abstract_summary_en = abstract_summary(input_text_en)\n",
    "extractive_summary_en = extractive_summary(input_text_en)\n",
    "extractive_summary_en = extractive_summary_azure(input_text_en, max_sentence_count=4)\n",
    "ner_en = ner(input_text_en)"
   ]
  },
  {
   "cell_type": "markdown",
   "id": "de49b2aa",
   "metadata": {},
   "source": [
    "## German pipeline"
   ]
  },
  {
   "cell_type": "code",
   "execution_count": 13,
   "id": "493d72b0",
   "metadata": {},
   "outputs": [],
   "source": [
    "abstract_summary_de = abstract_summary(input_text_de, is_english = False)\n",
    "extractive_summary_de = extractive_summary(input_text_de, is_english = False)\n",
    "ner_de = ner(input_text_de, translated_lang = 'de')"
   ]
  },
  {
   "cell_type": "markdown",
   "id": "318b166f",
   "metadata": {},
   "source": [
    "## Input text"
   ]
  },
  {
   "cell_type": "code",
   "execution_count": 14,
   "id": "58cf54ab",
   "metadata": {},
   "outputs": [
    {
     "name": "stdout",
     "output_type": "stream",
     "text": [
      "Asthma bronchiale\n",
      "Auslöser sind Blütenpollen oder Tierhaare genauso wie Kälte oder Belastung: Asthma bronchiale gehört zu den häufigsten chronischen Krankheiten in der Schweiz.\n",
      "Asthma bronchiale ist eine chronische und entzündliche Erkrankung der Atemwege. Charakteristisch sind Atemnot, Hustenanfälle und pfeifende Atemgeräusche. Die Bronchien reagieren dabei auf verschiedene Reize wie Pollen oder Tierhaare, aber auch Kälte oder körperliche Belastung können asthmatische Beschwerden auslösen.\n",
      "In der Schweiz ist ungefähr jedes 10. Kind von Asthma betroffen. Damit ist Asthma bei Kindern die häufigste chronische Krankheit überhaupt. Die Erkrankung bessert sich mit steigendem Alter jedoch spürbar, deshalb leidet nur noch jeder 14. Erwachsene an Asthma.\n",
      "\n"
     ]
    }
   ],
   "source": [
    "print(input_text_de)"
   ]
  },
  {
   "cell_type": "code",
   "execution_count": 15,
   "id": "9c7a4eb6",
   "metadata": {},
   "outputs": [
    {
     "name": "stdout",
     "output_type": "stream",
     "text": [
      "{'entities': [[CategorizedEntity(text=Schweiz, category=Location, subcategory=GPE, length=7, offset=168, confidence_score=1.0), CategorizedEntity(text=eine, category=Quantity, subcategory=Number, length=4, offset=199, confidence_score=0.8), CategorizedEntity(text=Schweiz, category=Location, subcategory=GPE, length=7, offset=503, confidence_score=1.0), CategorizedEntity(text=10., category=Quantity, subcategory=Ordinal, length=3, offset=530, confidence_score=0.8), CategorizedEntity(text=Kind, category=PersonType, subcategory=None, length=4, offset=534, confidence_score=0.6), CategorizedEntity(text=Kindern, category=PersonType, subcategory=None, length=7, offset=582, confidence_score=0.61), CategorizedEntity(text=14., category=Quantity, subcategory=Ordinal, length=3, offset=731, confidence_score=0.8), CategorizedEntity(text=Erwachsene, category=PersonType, subcategory=None, length=10, offset=735, confidence_score=0.65)]], 'entity_relations': []}\n",
      "Keys: ['text', 'category', 'subcategory', 'length', 'offset', 'confidence_score']\n",
      "______\n",
      "[('Location', 'Schweiz'), ('Quantity', 'eine'), ('Location', 'Schweiz'), ('Quantity', '10.'), ('PersonType', 'Kind'), ('PersonType', 'Kindern'), ('Quantity', '14.'), ('PersonType', 'Erwachsene')]\n"
     ]
    }
   ],
   "source": [
    "print(ner_de)\n",
    "print('Keys:', ner_de['entities'][0][0].keys())\n",
    "print('______')\n",
    "print([(x.category, x.text) for x in ner_de['entities'][0]])"
   ]
  },
  {
   "cell_type": "code",
   "execution_count": 16,
   "id": "99c0c7f8",
   "metadata": {},
   "outputs": [
    {
     "name": "stdout",
     "output_type": "stream",
     "text": [
      "Input text translated to english:\n",
      "\n",
      "Asthma bronchial triggers are flower pollen or animal hair as well as cold or strain: Asthma bronchial is one of the most common chronic diseases in Switzerland. Asthma bronchial is a chronic and inflammatory disease of the airways. Characteristic are shortness of breath, cough attacks and whistling breathing sounds. The bronchial bronchial reactions to various stimuli such as pollen or animal hair, but also cold or physical stress can cause asthmatic complaints. In Switzerland, about every 10th child is affected by asthma. Thus, asthma is the most common chronic disease in children. However, the disease improves with age, so only every 14th adult suffers from asthma.\n",
      "\n",
      "--------------------------------\n",
      "\n",
      "Abstract summary in english:\n",
      "\n",
      "Asthma bronchial triggers are flower pollen or animal hair as well as cold or strain: Asthma bronchial is one of the most common chronic diseases in Switzerland. Asthma bronchial is a chronic and inflammatory disease of the airways. Characteristic are shortness of breath, cough attacks and whistling breathing sounds. The bronchial bronchial reactions to various stimuli such as pollen or animal hair, but also cold or physical stress can cause asthmatic complaints. In Switzerland, about every 10th child is affected by asthma. Thus, asthma is the most common chronic disease in children. However, the disease improves with age, so only every 14th adult suffers from asthma.\n",
      "\n",
      "--------------------------------\n",
      "\n",
      "Extractive summary in english:\n",
      "\n",
      "['Asthma bronchial triggers are flower pollen or animal hair as well as cold or strain: Asthma bronchial is one of the most common chronic diseases in Switzerland. Asthma bronchial is a chronic and inflammatory disease of the airways. Characteristic are shortness of breath, cough attacks and whistling breathing sounds. The bronchial bronchial reactions to various stimuli such as pollen or animal hair, but also cold or physical stress can cause asthmatic complaints. In Switzerland, about every 10th child is affected by asthma. Thus, asthma is the most common chronic disease in children. However, the disease improves with age, so only every 14th adult suffers from asthma.']\n",
      "\n"
     ]
    }
   ],
   "source": [
    "if DEBUG:\n",
    "    print(\"Input text translated to english:\", end=\"\\n\\n\")\n",
    "    print(input_text_en, end=\"\\n\\n\")\n",
    "    print(\"--------------------------------\", end=\"\\n\\n\")\n",
    "    \n",
    "    print(\"Abstract summary in english:\", end=\"\\n\\n\")\n",
    "    print(abstract_summary_en, end=\"\\n\\n\")\n",
    "    print(\"--------------------------------\", end=\"\\n\\n\")\n",
    "    \n",
    "    print(\"Extractive summary in english:\", end=\"\\n\\n\")\n",
    "    print(extractive_summary_en, end=\"\\n\\n\")"
   ]
  },
  {
   "cell_type": "code",
   "execution_count": null,
   "id": "24de784f",
   "metadata": {},
   "outputs": [],
   "source": []
  },
  {
   "cell_type": "code",
   "execution_count": null,
   "id": "b64200fb",
   "metadata": {},
   "outputs": [],
   "source": []
  }
 ],
 "metadata": {
  "kernelspec": {
   "display_name": "Python 3 (ipykernel)",
   "language": "python",
   "name": "python3"
  },
  "language_info": {
   "codemirror_mode": {
    "name": "ipython",
    "version": 3
   },
   "file_extension": ".py",
   "mimetype": "text/x-python",
   "name": "python",
   "nbconvert_exporter": "python",
   "pygments_lexer": "ipython3",
   "version": "3.8.5"
  }
 },
 "nbformat": 4,
 "nbformat_minor": 5
}
