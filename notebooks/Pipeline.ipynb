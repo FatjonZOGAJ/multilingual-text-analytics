{
 "cells": [
  {
   "cell_type": "code",
   "execution_count": 1,
   "id": "478d661f",
   "metadata": {},
   "outputs": [],
   "source": [
    "import os\n",
    "os.chdir(\"..\")"
   ]
  },
  {
   "cell_type": "code",
   "execution_count": 2,
   "id": "41c5a226",
   "metadata": {},
   "outputs": [],
   "source": [
    "os.environ[\"AZURE_LANGUAGE_ENDPOINT\"] = \"https://datathon.cognitiveservices.azure.com/\"\n",
    "os.environ[\"AZURE_LANGUAGE_KEY\"] = \"abdeac0882324fb59b2cf327e84f783a\"\n",
    "os.environ[\"AZURE_TRANSLATION_ENDPOINT\"] = \"https://api.cognitive.microsofttranslator.com/\"\n",
    "os.environ[\"AZURE_TRANSLATION_KEY\"] = \"ed4486cc91334c13863a64530126be25\""
   ]
  },
  {
   "cell_type": "code",
   "execution_count": 3,
   "id": "dcad027c",
   "metadata": {},
   "outputs": [],
   "source": [
    "DEBUG = True"
   ]
  },
  {
   "cell_type": "code",
   "execution_count": 9,
   "id": "285fd331",
   "metadata": {},
   "outputs": [],
   "source": [
    "from transformers import AutoTokenizer, AutoModelForSeq2SeqLM, AutoModel\n",
    "from typing import Any, Dict, List"
   ]
  },
  {
   "cell_type": "code",
   "execution_count": 5,
   "id": "46363dac",
   "metadata": {},
   "outputs": [],
   "source": [
    "from ner import sample_analyze_healthcare_entities\n",
    "from translator import translate_en_to_de, translate_de_to_en\n",
    "from summarizer import summarize"
   ]
  },
  {
   "cell_type": "code",
   "execution_count": 6,
   "id": "0ab7d2a0",
   "metadata": {},
   "outputs": [],
   "source": [
    "import re\n",
    "import numpy as np\n",
    "import pandas as pd\n",
    "import copy"
   ]
  },
  {
   "cell_type": "code",
   "execution_count": 7,
   "id": "8d269257",
   "metadata": {},
   "outputs": [],
   "source": [
    "input_text_de = \"\"\"Asthma bronchiale\n",
    "Auslöser sind Blütenpollen oder Tierhaare genauso wie Kälte oder Belastung: Asthma bronchiale gehört zu den häufigsten chronischen Krankheiten in der Schweiz.\n",
    "Asthma bronchiale ist eine chronische und entzündliche Erkrankung der Atemwege. Charakteristisch sind Atemnot, Hustenanfälle und pfeifende Atemgeräusche. Die Bronchien reagieren dabei auf verschiedene Reize wie Pollen oder Tierhaare, aber auch Kälte oder körperliche Belastung können asthmatische Beschwerden auslösen.\n",
    "In der Schweiz ist ungefähr jedes 10. Kind von Asthma betroffen. Damit ist Asthma bei Kindern die häufigste chronische Krankheit überhaupt. Die Erkrankung bessert sich mit steigendem Alter jedoch spürbar, deshalb leidet nur noch jeder 14. Erwachsene an Asthma.\n",
    "\"\"\"\n",
    "\n",
    "input_text_en = \"\"\"Bronchitis\n",
    "Bronchitis is inflammation of the bronchi (large and medium-sized airways) in the lungs that causes coughing. Symptoms include coughing up sputum, wheezing, shortness of breath, and chest pain. Bronchitis can be acute or chronic.\n",
    "\n",
    "Acute bronchitis usually has a cough that lasts around three weeks, and is also known as a chest cold. In more than 90% of cases the cause is a viral infection. These viruses may be spread through the air when people cough or by direct contact. A small number of cases are caused by a bacterial infection such as Mycoplasma pneumoniae or Bordetella pertussis.[4] Risk factors include exposure to tobacco smoke, dust, and other air pollution. Treatment of acute bronchitis typically involves rest, paracetamol (acetaminophen), and nonsteroidal anti-inflammatory drugs (NSAIDs) to help with the fever. \n",
    "\n",
    "\"\"\""
   ]
  },
  {
   "cell_type": "code",
   "execution_count": 54,
   "id": "0b9e8b1b",
   "metadata": {},
   "outputs": [],
   "source": [
    "tokenizer_de_en = AutoTokenizer.from_pretrained(\"Helsinki-NLP/opus-mt-de-en\")\n",
    "model_de_en = AutoModelForSeq2SeqLM.from_pretrained(\"Helsinki-NLP/opus-mt-de-en\")\n",
    "\n",
    "tokenizer_en_de = AutoTokenizer.from_pretrained(\"Helsinki-NLP/opus-mt-en-de\")\n",
    "model_en_de = AutoModelForSeq2SeqLM.from_pretrained(\"Helsinki-NLP/opus-mt-en-de\")\n",
    "\n",
    "# summarizer_model_name = \"ml6team/mt5-small-german-finetune-mlsum\"\n",
    "summarizer_model_name = \"T-Systems-onsite/mt5-small-sum-de-en-v2\"\n",
    "\n",
    "summarizer_tokenizer = AutoTokenizer.from_pretrained(summarizer_model_name)\n",
    "summarizer_model = AutoModelForSeq2SeqLM.from_pretrained(summarizer_model_name)\n",
    "\n",
    "summarizer_tokenizer_en = AutoTokenizer.from_pretrained(\"SEBIS/code_trans_t5_small_program_synthese_transfer_learning_finetune\")\n",
    "summarizer_model_en = AutoModel.from_pretrained(\"SEBIS/code_trans_t5_small_program_synthese_transfer_learning_finetune\")"
   ]
  },
  {
   "cell_type": "code",
   "execution_count": 11,
   "id": "86bf73f1",
   "metadata": {},
   "outputs": [],
   "source": [
    "def translate(text: str, to_english: bool = True) -> str:\n",
    "    if to_english:\n",
    "        tokenized_text = tokenizer_de_en.prepare_seq2seq_batch([text], return_tensors='pt')\n",
    "        translation = model_de_en.generate(**tokenized_text, max_length=1024)\n",
    "        translated_text = tokenizer_de_en.batch_decode(translation, skip_special_tokens=True)[0]\n",
    "    else:\n",
    "        tokenized_text = tokenizer_en_de.prepare_seq2seq_batch([text], return_tensors='pt')\n",
    "        translation = model_en_de.generate(**tokenized_text, max_length=1024)\n",
    "        translated_text = tokenizer_en_de.batch_decode(translation, skip_special_tokens=True)[0]\n",
    "    return translated_text"
   ]
  },
  {
   "cell_type": "code",
   "execution_count": 12,
   "id": "2f848392",
   "metadata": {},
   "outputs": [],
   "source": [
    "def translate_azure(text: str, target_lang='en'):\n",
    "    if target_lang == 'en':\n",
    "        return translate_de_to_en(text, os.environ[\"AZURE_TRANSLATION_KEY\"], os.environ[\"AZURE_TRANSLATION_ENDPOINT\"])\n",
    "    else:\n",
    "        return translate_en_to_de(text, os.environ[\"AZURE_TRANSLATION_KEY\"], os.environ[\"AZURE_TRANSLATION_ENDPOINT\"])\n"
   ]
  },
  {
   "cell_type": "code",
   "execution_count": 25,
   "id": "fcf97e5d",
   "metadata": {},
   "outputs": [],
   "source": [
    "def abstract_summary(text: str, is_english: bool = True) -> str:\n",
    "    if is_english:\n",
    "        pass\n",
    "        '''tokenized_text = summarizer_tokenizer_en.prepare_seq2seq_batch([text],max_length=1024, return_tensors='pt')\n",
    "        output = summarizer_model_en.generate(**tokenized_text, max_length=1024)\n",
    "        summary = summarizer_tokenizer_en.batch_decode(output, skip_special_tokens=True)[0]'''\n",
    "    else:\n",
    "        tokenized_text = summarizer_tokenizer.prepare_seq2seq_batch([text],max_length=1024, return_tensors='pt')\n",
    "        output = summarizer_model.generate(**tokenized_text, max_length=1024)\n",
    "        summary = summarizer_tokenizer.batch_decode(output, skip_special_tokens=True)[0]\n",
    "    return summary"
   ]
  },
  {
   "cell_type": "code",
   "execution_count": 26,
   "id": "06109f62",
   "metadata": {},
   "outputs": [],
   "source": [
    "def extractive_summary_azure(text: str, max_sentence_count=4):\n",
    "    return summarize(text, max_sentence_count)"
   ]
  },
  {
   "cell_type": "code",
   "execution_count": 27,
   "id": "1848df67",
   "metadata": {},
   "outputs": [],
   "source": [
    "def extractive_summary(text: str, is_english: bool = True) -> List[str]:\n",
    "    if is_english:\n",
    "        pass\n",
    "        summary = [text]\n",
    "    else:\n",
    "        pass\n",
    "        summary = [text]\n",
    "    return summary"
   ]
  },
  {
   "cell_type": "code",
   "execution_count": null,
   "id": "b965849a",
   "metadata": {},
   "outputs": [],
   "source": []
  },
  {
   "cell_type": "code",
   "execution_count": 28,
   "id": "cfb5987a",
   "metadata": {},
   "outputs": [],
   "source": [
    "def ner(text: str, input_lang: str = 'en') -> Dict[str, Any]:\n",
    "    out =  sample_analyze_healthcare_entities([text], return_docs=True, translated_lang=input_lang)\n",
    "    if len(out['entities']) == 1:\n",
    "        out = {\n",
    "            'entities' : out['entities'][0],\n",
    "            'entity_relations' : out['entity_relations'][0] if len(out['entity_relations']) > 0 else [],\n",
    "        }\n",
    "    return out"
   ]
  },
  {
   "cell_type": "code",
   "execution_count": 29,
   "id": "9cb008a3",
   "metadata": {},
   "outputs": [],
   "source": [
    "def ner_translate(ner_obj, target_lang):\n",
    "    #translate text cat and entity category (disregard normalized text as not informative)\n",
    "    transl_cols = ['text', 'category']\n",
    "    cp = copy.deepcopy(ner_obj)\n",
    "    for x in cp:\n",
    "        x.pop('normalized_text', None)\n",
    "        x['translated_lang'] = target_lang\n",
    "        for c in transl_cols:\n",
    "            # split by Capitalization\n",
    "            inp = \" \".join(re.split('(?=[A-Z])', x[c]))\n",
    "            out = translate_azure(inp, target_lang)\n",
    "            if c == 'category':\n",
    "                out = out.title().replace(\" \", \"\")\n",
    "            x[f'{c}_translated'] = out\n",
    "    \n",
    "    return cp"
   ]
  },
  {
   "cell_type": "markdown",
   "id": "532f4203",
   "metadata": {},
   "source": [
    "## German to English pipeline"
   ]
  },
  {
   "cell_type": "code",
   "execution_count": 47,
   "id": "cd46363f",
   "metadata": {},
   "outputs": [],
   "source": [
    "## right, top (summarize, translate)\n",
    "out_text_en = translate(input_text_de)\n",
    "out_text_azure_en = translate_azure(input_text_de, target_lang='en')\n",
    "# abstract_summary_en = abstract_summary(out_text_en) # NOT PRINTED\n",
    "extractive_summary_en = extractive_summary(out_text_en)\n",
    "extractive_summary_azure_en = extractive_summary_azure(out_text_en, max_sentence_count=4)\n",
    "# use azure translated output for NER\n",
    "ner_in_de = ner(input_text_de, input_lang = 'de')\n",
    "ner_out_azure_en_in_de = ner(out_text_azure_en, input_lang = 'en') # not printed\n",
    "\n",
    "# comparison summarized ger vs summarized english of NER\n",
    "summ_input_text_de = extractive_summary(input_text_de)\n",
    "ner_in_summ_de = ner(summ_input_text_de[0], input_lang = 'de')\n",
    "ner_in_summ_out_azure_en_in_de = ner(extractive_summary_azure_en, input_lang = 'en') # TODO: SHOULD USE ACTUAL ENG TEXT THAT GETS SUMMARIZED\n",
    "\n",
    "\n",
    "\n",
    "# top NOT PRINTED (summarize without translate)\n",
    "# TODO: for comparison of sum-trans vs trans-sum\n",
    "abstract_summary_de = abstract_summary(input_text_de, is_english = False)\n",
    "extractive_summary_de = extractive_summary(input_text_de, is_english = False)\n",
    "#abstract_summary_azure_de = abstract_summary(input_text_azure_de, is_english = False)\n",
    "#extractive_summary_azure_de = extractive_summary(input_azure_text_de, is_english = False)\n"
   ]
  },
  {
   "cell_type": "markdown",
   "id": "de49b2aa",
   "metadata": {},
   "source": [
    "## English to German pipeline"
   ]
  },
  {
   "cell_type": "code",
   "execution_count": 48,
   "id": "493d72b0",
   "metadata": {},
   "outputs": [
    {
     "ename": "NameError",
     "evalue": "name 'input_text_azure_de' is not defined",
     "output_type": "error",
     "traceback": [
      "\u001b[0;31m---------------------------------------------------------------------------\u001b[0m",
      "\u001b[0;31mNameError\u001b[0m                                 Traceback (most recent call last)",
      "\u001b[0;32m/tmp/ipykernel_4171592/2284691046.py\u001b[0m in \u001b[0;36m<module>\u001b[0;34m\u001b[0m\n\u001b[1;32m     12\u001b[0m \u001b[0mabstract_summary_de\u001b[0m \u001b[0;34m=\u001b[0m \u001b[0mabstract_summary\u001b[0m\u001b[0;34m(\u001b[0m\u001b[0minput_text_en\u001b[0m\u001b[0;34m,\u001b[0m \u001b[0mis_english\u001b[0m \u001b[0;34m=\u001b[0m \u001b[0;32mFalse\u001b[0m\u001b[0;34m)\u001b[0m\u001b[0;34m\u001b[0m\u001b[0;34m\u001b[0m\u001b[0m\n\u001b[1;32m     13\u001b[0m \u001b[0mextractive_summary_de\u001b[0m \u001b[0;34m=\u001b[0m \u001b[0mextractive_summary\u001b[0m\u001b[0;34m(\u001b[0m\u001b[0minput_text_en\u001b[0m\u001b[0;34m,\u001b[0m \u001b[0mis_english\u001b[0m \u001b[0;34m=\u001b[0m \u001b[0;32mFalse\u001b[0m\u001b[0;34m)\u001b[0m\u001b[0;34m\u001b[0m\u001b[0;34m\u001b[0m\u001b[0m\n\u001b[0;32m---> 14\u001b[0;31m \u001b[0mabstract_summary_azure_de\u001b[0m \u001b[0;34m=\u001b[0m \u001b[0mabstract_summary\u001b[0m\u001b[0;34m(\u001b[0m\u001b[0minput_text_azure_de\u001b[0m\u001b[0;34m,\u001b[0m \u001b[0mis_english\u001b[0m \u001b[0;34m=\u001b[0m \u001b[0;32mFalse\u001b[0m\u001b[0;34m)\u001b[0m\u001b[0;34m\u001b[0m\u001b[0;34m\u001b[0m\u001b[0m\n\u001b[0m\u001b[1;32m     15\u001b[0m \u001b[0;31m#extractive_summary_azure_de = extractive_summary(input_azure_text_de, is_english = False)\u001b[0m\u001b[0;34m\u001b[0m\u001b[0;34m\u001b[0m\u001b[0;34m\u001b[0m\u001b[0m\n\u001b[1;32m     16\u001b[0m \u001b[0mner_de\u001b[0m \u001b[0;34m=\u001b[0m \u001b[0mner\u001b[0m\u001b[0;34m(\u001b[0m\u001b[0minput_text_en\u001b[0m\u001b[0;34m,\u001b[0m \u001b[0minput_lang\u001b[0m \u001b[0;34m=\u001b[0m \u001b[0;34m'en'\u001b[0m\u001b[0;34m)\u001b[0m\u001b[0;34m\u001b[0m\u001b[0;34m\u001b[0m\u001b[0m\n",
      "\u001b[0;31mNameError\u001b[0m: name 'input_text_azure_de' is not defined"
     ]
    }
   ],
   "source": [
    "## TODO:\n",
    "# left, top\n",
    "input_text_de = translate(input_text_en)\n",
    "input_text_azure_en = translate_azure(input_text_en, target_lang='de')\n",
    "# abstract_summary_en = abstract_summary(input_text_en)\n",
    "extractive_summary_en = extractive_summary(input_text_en)\n",
    "extractive_summary_azure_en = extractive_summary_azure(input_text_en, max_sentence_count=4)\n",
    "ner_en = ner(input_text_de)\n",
    "\n",
    "# SUMMARIZE \n",
    "# top\n",
    "abstract_summary_de = abstract_summary(input_text_en, is_english = False)\n",
    "extractive_summary_de = extractive_summary(input_text_en, is_english = False)\n",
    "abstract_summary_azure_de = abstract_summary(input_text_azure_de, is_english = False)\n",
    "#extractive_summary_azure_de = extractive_summary(input_azure_text_de, is_english = False)\n",
    "ner_de = ner(input_text_en, input_lang = 'en')"
   ]
  },
  {
   "cell_type": "markdown",
   "id": "318b166f",
   "metadata": {},
   "source": []
  },
  {
   "cell_type": "code",
   "execution_count": 52,
   "id": "58cf54ab",
   "metadata": {},
   "outputs": [
    {
     "name": "stdout",
     "output_type": "stream",
     "text": [
      "Bronchitis Bronchitis is inflammation of the bronchi (large and medium-sized airways) in the lungs that causes coughing. Symptoms include cutting up sputum, whiezing, shortness of breath, and chase pain. Bronchitis can be acute or chronic. Acute bronchitis usually has a cough that lasts around three weeks, and is also known as a chest cold. In more than 90% of cases the cause is a viral infection. These viruses may be spread through the air when people cough or by direct contact. A small number of cases are caused by a bacterial infection cause as Mycoplasma pneumoniae or Bordetella persis.[4] Risks involving inclusion to prevent and prevent disease.\n"
     ]
    }
   ],
   "source": [
    "print(input_text_de)"
   ]
  },
  {
   "cell_type": "code",
   "execution_count": null,
   "id": "9c7a4eb6",
   "metadata": {
    "scrolled": false
   },
   "outputs": [],
   "source": [
    "def transform_ner(ner, input_lang, unique=False):\n",
    "    if input_lang == 'en':\n",
    "        cols = ['text', 'normalized_text', 'category']\n",
    "    else:\n",
    "        cols = ['text', 'category']\n",
    "        \n",
    "    print('_Keys:', ner['entities'][0].keys())\n",
    "    out = [{c: getattr(x, c) for c in cols } for x in ner['entities']]\n",
    "\n",
    "    if unique:\n",
    "        unq = {}\n",
    "        for x in out:\n",
    "            list_out = [x[c] for c in cols if x[c] is not None]\n",
    "            #print(list_out)\n",
    "            unq[f'{\" \".join(list_out)}'] = x\n",
    "            out = list(unq.values())\n",
    "    print(out)\n",
    "    print('______', end=\"\\n\\n\")\n",
    "    #if input_lang != 'en':\n",
    "    #   print(ner)\n",
    "    return out\n",
    "\n",
    "# transformed NER german inpu\n",
    "tf_ner_in_de = transform_ner(ner_in_de, input_lang='de')\n",
    "# transformed NER english translated out\n",
    "tf_ner_out_azure_en_in_de = transform_ner(ner_out_azure_en_in_de, input_lang='en', unique=True)\n",
    "# translate to german transformed NER english output\n",
    "translated_tf_ner_out_azure_en_in_de = ner_translate(tf_ner_out_azure_en_in_de, 'de')\n",
    "print(translated_tf_ner_out_azure_en_in_de)\n",
    "#transform_ner(translated_ner_out_azure_en_in_de, input_lang='en', unique=True)\n",
    "\n",
    "\n",
    "print(ner_out_azure_en_in_de['entities'][0].keys())\n",
    "print(ner_out_azure_en_in_de['entity_relations'][0].keys())\n",
    "\n",
    "print('SUMMARIZED________________')\n",
    "\n",
    "tf_ner_in_summ_de = transform_ner(ner_in_summ_de, input_lang='de')\n",
    "\n",
    "tf_ner_in_summ_out_azure_en_in_de = transform_ner(ner_in_summ_out_azure_en_in_de, input_lang='en', unique=True)\n",
    "# translate to german transformed NER english output\n",
    "translated_tf_ner_in_summ_out_azure_en_in_de = ner_translate(tf_ner_in_summ_out_azure_en_in_de, 'de')\n",
    "print(translated_tf_ner_in_summ_out_azure_en_in_de)\n"
   ]
  },
  {
   "cell_type": "code",
   "execution_count": 61,
   "id": "99c0c7f8",
   "metadata": {
    "scrolled": false
   },
   "outputs": [
    {
     "name": "stdout",
     "output_type": "stream",
     "text": [
      "DE INPUT: Bronchitis Bronchitis is inflammation of the bronchi (large and medium-sized airways) in the lungs that causes coughing. Symptoms include cutting up sputum, whiezing, shortness of breath, and chase pain. Bronchitis can be acute or chronic. Acute bronchitis usually has a cough that lasts around three weeks, and is also known as a chest cold. In more than 90% of cases the cause is a viral infection. These viruses may be spread through the air when people cough or by direct contact. A small number of cases are caused by a bacterial infection cause as Mycoplasma pneumoniae or Bordetella persis.[4] Risks involving inclusion to prevent and prevent disease.\n",
      "\n",
      ">>>>>>>>>>>>>>>>>>>>>>>>>>>>>>>\n",
      "\n",
      "Comparison Orig vs Azure translation to english\n",
      "de Bronchitis Bronchitis is inflammation of the bronchi (large and medium-sized airways) in the lungs that causes coughin\n",
      "og BronchitisBronchitis is inflammation of the bronchi (large and medium-sized airways) in the lungs that causes coughin\n",
      "az BronchitisBronchitis ist eine Entzündung der Bronchien (große und mittelgroße Atemwege) in der Lunge, die Husten verursach\n",
      "__\n",
      "de  Symptoms include cutting up sputum, whiezing, shortness of breath, and chase pai\n",
      "og  Symptoms include coughing up sputum, wheezing, shortness of breath, and chest pai\n",
      "az  Zu den Symptomen gehören Auswurf, Keuchen, Kurzatmigkeit und Brustschmerze\n",
      "__\n",
      "de  Bronchitis can be acute or chroni\n",
      "og  Bronchitis can be acute or chroni\n",
      "az  Bronchitis kann akut oder chronisch sei\n",
      "__\n",
      "de  Acute bronchitis usually has a cough that lasts around three weeks, and is also known as a chest col\n",
      "og Acute bronchitis usually has a cough that lasts around three weeks, and is also known as a chest col\n",
      "az Akute Bronchitis hat in der Regel einen Husten, der etwa drei Wochen anhält und auch als Erkältung der Brust bekannt is\n",
      "__\n",
      "de  In more than 90% of cases the cause is a viral infectio\n",
      "og  In more than 90% of cases the cause is a viral infectio\n",
      "az  In mehr als 90% der Fälle ist die Ursache eine Virusinfektio\n",
      "__\n",
      "de  These viruses may be spread through the air when people cough or by direct contac\n",
      "og  These viruses may be spread through the air when people cough or by direct contac\n",
      "az  Diese Viren können durch die Luft verbreitet werden, wenn Menschen husten oder durch direkten Kontak\n",
      "__\n",
      "de  A small number of cases are caused by a bacterial infection cause as Mycoplasma pneumoniae or Bordetella persi\n",
      "og  A small number of cases are caused by a bacterial infection such as Mycoplasma pneumoniae or Bordetella pertussi\n",
      "az  Eine kleine Anzahl von Fällen wird durch eine bakterielle Infektion wie Mycoplasma pneumoniae oder Bordetella pertussis verursach\n",
      "__\n",
      "de [4] Risks involving inclusion to prevent and prevent diseas\n",
      "og [4] Risk factors include exposure to tobacco smoke, dust, and other air pollutio\n",
      "az  [4] Zu den Risikofaktoren gehört die Exposition gegenüber Tabakrauch, Staub und anderer Luftverschmutzun\n",
      "__\n",
      "de \n",
      "og  Treatment of acute bronchitis typically involves rest, paracetamol (acetaminophen), and nonsteroidal anti-inflammatory drugs (NSAIDs) to help with the feve\n",
      "az  Die Behandlung der akuten Bronchitis umfasst typischerweise Ruhe, Paracetamol (Paracetamol) und nichtsteroidale entzündungshemmende Medikamente (NSAIDs), um bei Fieber zu helfe\n",
      "__\n",
      ">>>>>>>>>>>>>>>>>>>>>>>>>>>>>>>\n",
      "\n",
      "Input DE\n",
      "Bronchitis Bronchitis is inflammation of the bronchi (large and medium-sized airways) in the lungs that causes coughing. Symptoms include cutting up sputum, whiezing, shortness of breath, and chase pain. Bronchitis can be acute or chronic. Acute bronchitis usually has a cough that lasts around three weeks, and is also known as a chest cold. In more than 90% of cases the cause is a viral infection. These viruses may be spread through the air when people cough or by direct contact. A small number of cases are caused by a bacterial infection cause as Mycoplasma pneumoniae or Bordetella persis.[4] Risks involving inclusion to prevent and prevent disease.\n",
      "\n",
      "Extractive summary in english:\n",
      "Bronchitis\n",
      "Bronchitis is inflammation of the bronchi (large and medium-sized airways) in the lungs that causes coughing. Symptoms include coughing up sputum, wheezing, shortness of breath, and chest pain. Bronchitis can be acute or chronic.\n",
      "\n",
      "Acute bronchitis usually has a cough that lasts around three weeks, and is also known as a chest cold. In more than 90% of cases the cause is a viral infection. These viruses may be spread through the air when people cough or by direct contact. A small number of cases are caused by a bacterial infection such as Mycoplasma pneumoniae or Bordetella pertussis.[4] Risk factors include exposure to tobacco smoke, dust, and other air pollution. Treatment of acute bronchitis typically involves rest, paracetamol (acetaminophen), and nonsteroidal anti-inflammatory drugs (NSAIDs) to help with the fever. \n",
      "\n",
      "\n",
      "\n",
      ">>>>>>>>>>>>>>>>>>>>>>>>>>>>>>>\n",
      "Extractive summary by azure:\n",
      "Bronchitis\n",
      "Bronchitis is inflammation of the bronchi (large and medium-sized airways) in the lungs that causes coughing. Bronchitis can be acute or chronic. Acute bronchitis usually has a cough that lasts around three weeks, and is also known as a chest cold. In more than 90% of cases the cause is a viral infection.\n",
      "\n",
      "Abstract summary in german:\n",
      "\n",
      "Deutsche Hörspiele leiden in der Krise. Eine Übersicht.\n",
      "\n",
      "--------------------------------\n",
      "\n"
     ]
    }
   ],
   "source": [
    "if DEBUG:\n",
    "    print(\"DE INPUT:\", input_text_de, end=\"\\n\\n\")\n",
    "    print(\">>>>>>>>>>>>>>>>>>>>>>>>>>>>>>>\", end=\"\\n\\n\")\n",
    "\n",
    "    def compare_texts(in_de, in_orig, in_azure, comp_txt):\n",
    "        print(comp_txt)\n",
    "        tpl = [re.split(\"[^0-9]\\.\", text.replace('\\n', '')) for text in [in_de, in_orig, in_azure]]\n",
    "        for de, orig, az in zip(*tpl):\n",
    "            print('de', de)\n",
    "            print('og', orig)\n",
    "            print('az', az)\n",
    "            print('__')\n",
    "        \n",
    "        print(\">>>>>>>>>>>>>>>>>>>>>>>>>>>>>>>\", end=\"\\n\\n\")\n",
    "\n",
    "    \n",
    "    compare_texts(input_text_de, input_text_en, input_text_azure_en, \"Comparison Orig vs Azure translation to english\")\n",
    "    '''\n",
    "    print(\"Comparison Orig vs Azure translation to english\")\n",
    "    tpl = [text.replace('\\n', '').split(\".\") for text in [input_text_de, input_text_en, input_text_azure_en]]\n",
    "    for de, orig, az in zip(*tpl):\n",
    "        print('de', de)\n",
    "        print('og', orig)\n",
    "        print('az', az)\n",
    "        print('__')\n",
    "            \n",
    "    print(\"Input text translated to english:\", end=\"\\n\\n\")\n",
    "    print(input_text_en, end=\"\\n\\n\")\n",
    "    \n",
    "    print(\">>>>>>>>>>>>>>>>>>>>>>>>>>>>>>>\", end=\"\\n\")\n",
    "\n",
    "    print(\"Input text translated by azure:\", end=\"\\n\\n\")\n",
    "    print(input_text_azure_en, end=\"\\n\\n\")\n",
    "    print(\"--------------------------------\", end=\"\\n\\n\")\n",
    "    \n",
    "    \n",
    "    print(\"Abstract summary in english:\", end=\"\\n\\n\")\n",
    "    print(abstract_summary_en, end=\"\\n\\n\")\n",
    "    print(\"--------------------------------\", end=\"\\n\\n\")\n",
    "    \n",
    "\n",
    "    '''\n",
    "    \n",
    "    #compare_texts(input_text_de, extractive_summary_en[0], extractive_summary_azure_en, \"Comparison Orig vs Azure summarization of translated\")\n",
    "\n",
    "    print(\"Input DE\", end=\"\\n\")\n",
    "    print(input_text_de, end=\"\\n\\n\")\n",
    "\n",
    "        \n",
    "    print(\"Extractive summary in english:\", end=\"\\n\")\n",
    "    print(extractive_summary_en[0], end=\"\\n\\n\")\n",
    "    \n",
    "    print(\">>>>>>>>>>>>>>>>>>>>>>>>>>>>>>>\", end=\"\\n\")\n",
    "    \n",
    "    print(\"Extractive summary by azure:\", end=\"\\n\")\n",
    "    print(extractive_summary_azure_en, end=\"\\n\\n\")\n",
    "    \n",
    "    \n",
    "    inde = \"Der Patient klag ueber Kopfschmerzen. Es besteht keine erhoehte Koerpertemperatur. Der Puls ist normal, der Blutdruck jedoch niedrig.\"\n",
    "    abstract_summary_de = abstract_summary(inde, is_english = False)\n",
    "    print(\"Abstract summary in german:\", end=\"\\n\\n\")\n",
    "    print(abstract_summary_de, end=\"\\n\\n\")\n",
    "    print(\"--------------------------------\", end=\"\\n\\n\")\n",
    "    \n",
    "\n",
    "    \n",
    "    "
   ]
  },
  {
   "cell_type": "code",
   "execution_count": null,
   "id": "24de784f",
   "metadata": {},
   "outputs": [],
   "source": []
  },
  {
   "cell_type": "code",
   "execution_count": null,
   "id": "b64200fb",
   "metadata": {},
   "outputs": [],
   "source": []
  },
  {
   "cell_type": "code",
   "execution_count": null,
   "id": "3fd75e62",
   "metadata": {},
   "outputs": [],
   "source": []
  }
 ],
 "metadata": {
  "kernelspec": {
   "display_name": "Python 3 (ipykernel)",
   "language": "python",
   "name": "python3"
  },
  "language_info": {
   "codemirror_mode": {
    "name": "ipython",
    "version": 3
   },
   "file_extension": ".py",
   "mimetype": "text/x-python",
   "name": "python",
   "nbconvert_exporter": "python",
   "pygments_lexer": "ipython3",
   "version": "3.8.5"
  }
 },
 "nbformat": 4,
 "nbformat_minor": 5
}
