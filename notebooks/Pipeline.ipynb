{
 "cells": [
  {
   "cell_type": "code",
   "execution_count": 25,
   "id": "0f0ddbdd",
   "metadata": {},
   "outputs": [],
   "source": [
    "from transformers import AutoTokenizer, AutoModelForSeq2SeqLM\n",
    "from typing import Any, Dict, List"
   ]
  },
  {
   "cell_type": "code",
   "execution_count": 16,
   "id": "6dbd96bc",
   "metadata": {},
   "outputs": [],
   "source": [
    "DEBUG = True"
   ]
  },
  {
   "cell_type": "code",
   "execution_count": 1,
   "id": "e66919e1",
   "metadata": {},
   "outputs": [],
   "source": [
    "input_text_de = \"\"\"Asthma bronchiale\n",
    "Auslöser sind Blütenpollen oder Tierhaare genauso wie Kälte oder Belastung: Asthma bronchiale gehört zu den häufigsten chronischen Krankheiten in der Schweiz.\n",
    "Asthma bronchiale ist eine chronische und entzündliche Erkrankung der Atemwege. Charakteristisch sind Atemnot, Hustenanfälle und pfeifende Atemgeräusche. Die Bronchien reagieren dabei auf verschiedene Reize wie Pollen oder Tierhaare, aber auch Kälte oder körperliche Belastung können asthmatische Beschwerden auslösen.\n",
    "In der Schweiz ist ungefähr jedes 10. Kind von Asthma betroffen. Damit ist Asthma bei Kindern die häufigste chronische Krankheit überhaupt. Die Erkrankung bessert sich mit steigendem Alter jedoch spürbar, deshalb leidet nur noch jeder 14. Erwachsene an Asthma.\n",
    "\"\"\""
   ]
  },
  {
   "cell_type": "code",
   "execution_count": 41,
   "id": "d6c32bcc",
   "metadata": {},
   "outputs": [],
   "source": [
    "tokenizer_de_en = AutoTokenizer.from_pretrained(\"Helsinki-NLP/opus-mt-de-en\")\n",
    "model_de_en = AutoModelForSeq2SeqLM.from_pretrained(\"Helsinki-NLP/opus-mt-de-en\")\n",
    "\n",
    "tokenizer_en_de = AutoTokenizer.from_pretrained(\"Helsinki-NLP/opus-mt-en-de\")\n",
    "model_en_de = AutoModelForSeq2SeqLM.from_pretrained(\"Helsinki-NLP/opus-mt-en-de\")\n",
    "\n",
    "summarizer_tokenizer = AutoTokenizer.from_pretrained(\"T-Systems-onsite/mt5-small-sum-de-en-v2\")\n",
    "summarizer_model = AutoModelForSeq2SeqLM.from_pretrained(\"T-Systems-onsite/mt5-small-sum-de-en-v2\")"
   ]
  },
  {
   "cell_type": "code",
   "execution_count": 31,
   "id": "a382f0ba",
   "metadata": {},
   "outputs": [],
   "source": [
    "def translate(text: str, to_english: bool = True) -> str:\n",
    "    if to_english:\n",
    "        tokenized_text = tokenizer_de_en.prepare_seq2seq_batch([text], return_tensors='pt')\n",
    "        translation = model_de_en.generate(**tokenized_text, max_length=1024)\n",
    "        translated_text = tokenizer_de_en.batch_decode(translation, skip_special_tokens=True)[0]\n",
    "    else:\n",
    "        tokenized_text = tokenizer_en_de.prepare_seq2seq_batch([text], return_tensors='pt')\n",
    "        translation = model_en_de.generate(**tokenized_text, max_length=1024)\n",
    "        translated_text = tokenizer_en_de.batch_decode(translation, skip_special_tokens=True)[0]\n",
    "    return translated_text"
   ]
  },
  {
   "cell_type": "code",
   "execution_count": 36,
   "id": "854475d2",
   "metadata": {},
   "outputs": [],
   "source": [
    "def abstract_summary(text: str, is_english: bool = True) -> str:\n",
    "    if is_english:\n",
    "        pass\n",
    "        summary = text\n",
    "    else:\n",
    "        tokenized_text = summarizer_tokenizer.prepare_seq2seq_batch([text],max_length=1024, return_tensors='pt')\n",
    "        output = summarizer_model.generate(**tokenized_text, max_length=1024)\n",
    "        summary = summarizer_tokenizer.batch_decode(output, skip_special_tokens=True)[0]\n",
    "    return summary"
   ]
  },
  {
   "cell_type": "code",
   "execution_count": 37,
   "id": "adaed53b",
   "metadata": {},
   "outputs": [],
   "source": [
    "def extractive_summary(text: str, is_english: bool = True) -> List[str]:\n",
    "    if is_english:\n",
    "        pass\n",
    "        summary = [text]\n",
    "    else:\n",
    "        pass\n",
    "        summary = [text]\n",
    "    return summary"
   ]
  },
  {
   "cell_type": "code",
   "execution_count": 38,
   "id": "3fc0b501",
   "metadata": {},
   "outputs": [],
   "source": [
    "def ner(text: str, is_english: bool = True) -> Dict[str, Any]:\n",
    "    if is_english:\n",
    "        pass\n",
    "        result = {}\n",
    "    else:\n",
    "        pass\n",
    "        result = {}\n",
    "    return result"
   ]
  },
  {
   "cell_type": "markdown",
   "id": "950e4df2",
   "metadata": {},
   "source": [
    "## English pipeline"
   ]
  },
  {
   "cell_type": "code",
   "execution_count": 39,
   "id": "e18acaa0",
   "metadata": {},
   "outputs": [],
   "source": [
    "input_text_en = translate(input_text_de)\n",
    "abstract_summary_en = abstract_summary(input_text_en)\n",
    "extractive_summary_en = extractive_summary(input_text_en)\n",
    "ner_en = ner(input_text_en)"
   ]
  },
  {
   "cell_type": "markdown",
   "id": "ac0235b6",
   "metadata": {},
   "source": [
    "## German pipeline"
   ]
  },
  {
   "cell_type": "code",
   "execution_count": 42,
   "id": "7b06a8fb",
   "metadata": {},
   "outputs": [],
   "source": [
    "abstract_summary_de = abstract_summary(input_text_de, is_english = False)\n",
    "extractive_summary_de = extractive_summary(input_text_de, is_english = False)\n",
    "ner_de = ner(input_text_de, is_english = False)"
   ]
  },
  {
   "cell_type": "markdown",
   "id": "3bde6913",
   "metadata": {},
   "source": [
    "## Input text"
   ]
  },
  {
   "cell_type": "code",
   "execution_count": 43,
   "id": "1d753692",
   "metadata": {},
   "outputs": [
    {
     "name": "stdout",
     "output_type": "stream",
     "text": [
      "Asthma bronchiale\n",
      "Auslöser sind Blütenpollen oder Tierhaare genauso wie Kälte oder Belastung: Asthma bronchiale gehört zu den häufigsten chronischen Krankheiten in der Schweiz.\n",
      "Asthma bronchiale ist eine chronische und entzündliche Erkrankung der Atemwege. Charakteristisch sind Atemnot, Hustenanfälle und pfeifende Atemgeräusche. Die Bronchien reagieren dabei auf verschiedene Reize wie Pollen oder Tierhaare, aber auch Kälte oder körperliche Belastung können asthmatische Beschwerden auslösen.\n",
      "In der Schweiz ist ungefähr jedes 10. Kind von Asthma betroffen. Damit ist Asthma bei Kindern die häufigste chronische Krankheit überhaupt. Die Erkrankung bessert sich mit steigendem Alter jedoch spürbar, deshalb leidet nur noch jeder 14. Erwachsene an Asthma.\n",
      "\n"
     ]
    }
   ],
   "source": [
    "print(input_text_de)"
   ]
  },
  {
   "cell_type": "code",
   "execution_count": 48,
   "id": "83c43ac1",
   "metadata": {},
   "outputs": [
    {
     "name": "stdout",
     "output_type": "stream",
     "text": [
      "Input text translated to english:\n",
      "\n",
      "Asthma bronchial triggers are flower pollen or animal hair as well as cold or strain: Asthma bronchial is one of the most common chronic diseases in Switzerland. Asthma bronchial is a chronic and inflammatory disease of the airways. Characteristic are shortness of breath, cough attacks and whistling breathing sounds. The bronchial bronchial reactions to various stimuli such as pollen or animal hair, but also cold or physical stress can cause asthmatic complaints. In Switzerland, about every 10th child is affected by asthma. Thus, asthma is the most common chronic disease in children. However, the disease improves with age, so only every 14th adult suffers from asthma.\n",
      "\n",
      "--------------------------------\n",
      "\n",
      "Abstract summary in english:\n",
      "\n",
      "Asthma bronchial triggers are flower pollen or animal hair as well as cold or strain: Asthma bronchial is one of the most common chronic diseases in Switzerland. Asthma bronchial is a chronic and inflammatory disease of the airways. Characteristic are shortness of breath, cough attacks and whistling breathing sounds. The bronchial bronchial reactions to various stimuli such as pollen or animal hair, but also cold or physical stress can cause asthmatic complaints. In Switzerland, about every 10th child is affected by asthma. Thus, asthma is the most common chronic disease in children. However, the disease improves with age, so only every 14th adult suffers from asthma.\n",
      "\n",
      "--------------------------------\n",
      "\n",
      "Extractive summary in english:\n",
      "\n",
      "['Asthma bronchial triggers are flower pollen or animal hair as well as cold or strain: Asthma bronchial is one of the most common chronic diseases in Switzerland. Asthma bronchial is a chronic and inflammatory disease of the airways. Characteristic are shortness of breath, cough attacks and whistling breathing sounds. The bronchial bronchial reactions to various stimuli such as pollen or animal hair, but also cold or physical stress can cause asthmatic complaints. In Switzerland, about every 10th child is affected by asthma. Thus, asthma is the most common chronic disease in children. However, the disease improves with age, so only every 14th adult suffers from asthma.']\n",
      "\n"
     ]
    }
   ],
   "source": [
    "if DEBUG:\n",
    "    print(\"Input text translated to english:\", end=\"\\n\\n\")\n",
    "    print(input_text_en, end=\"\\n\\n\")\n",
    "    print(\"--------------------------------\", end=\"\\n\\n\")\n",
    "    \n",
    "    print(\"Abstract summary in english:\", end=\"\\n\\n\")\n",
    "    print(abstract_summary_en, end=\"\\n\\n\")\n",
    "    print(\"--------------------------------\", end=\"\\n\\n\")\n",
    "    \n",
    "    print(\"Extractive summary in english:\", end=\"\\n\\n\")\n",
    "    print(extractive_summary_en, end=\"\\n\\n\")"
   ]
  },
  {
   "cell_type": "code",
   "execution_count": null,
   "id": "1240820a",
   "metadata": {},
   "outputs": [],
   "source": []
  },
  {
   "cell_type": "code",
   "execution_count": null,
   "id": "5d8288a4",
   "metadata": {},
   "outputs": [],
   "source": []
  }
 ],
 "metadata": {
  "kernelspec": {
   "display_name": "Python 3 (ipykernel)",
   "language": "python",
   "name": "python3"
  },
  "language_info": {
   "codemirror_mode": {
    "name": "ipython",
    "version": 3
   },
   "file_extension": ".py",
   "mimetype": "text/x-python",
   "name": "python",
   "nbconvert_exporter": "python",
   "pygments_lexer": "ipython3",
   "version": "3.8.5"
  }
 },
 "nbformat": 4,
 "nbformat_minor": 5
}
